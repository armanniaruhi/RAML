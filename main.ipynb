{
 "cells": [
  {
   "cell_type": "code",
   "execution_count": null,
   "id": "f0d2de51",
   "metadata": {
    "ExecuteTime": {
     "end_time": "2025-05-25T13:14:26.559252Z",
     "start_time": "2025-05-25T13:14:26.548804Z"
    }
   },
   "outputs": [],
   "source": [
    "from src.preprocessing.dataLoader_CelebA import get_partitioned_dataloaders, create_subset_loader\n",
    "from src.ml.resNet50 import SiameseResNet\n",
    "from src.ml.losses_utils import ContrastiveLoss\n",
    "import torch\n",
    "from src.ml.hyperparam_study import run_optuna_study"
   ]
  },
  {
   "cell_type": "markdown",
   "id": "bd34605c",
   "metadata": {},
   "source": [
    "# 1. Load the data"
   ]
  },
  {
   "cell_type": "code",
   "execution_count": null,
   "id": "b95e4ac4",
   "metadata": {
    "ExecuteTime": {
     "end_time": "2025-05-25T13:14:28.360594Z",
     "start_time": "2025-05-25T13:14:28.350862Z"
    }
   },
   "outputs": [],
   "source": [
    "IMAGE_DIR = \"data/celeba/img_align_celeba\"\n",
    "LABEL_FILE = \"data/celeba/identity_CelebA.txt\"\n",
    "PARTITION_FILE = \"data/celeba/list_eval_partition.csv\"\n",
    "IMG_SIZE = 224\n",
    "BATCH_SIZE = 32\n",
    "DEVICE = torch.device('cuda' if torch.cuda.is_available() else 'cpu')"
   ]
  },
  {
   "cell_type": "code",
   "execution_count": null,
   "id": "2a41272680289e27",
   "metadata": {
    "ExecuteTime": {
     "end_time": "2025-05-25T13:14:35.799273Z",
     "start_time": "2025-05-25T13:14:33.812910Z"
    }
   },
   "outputs": [],
   "source": [
    "train_loader, val_loader, test_loader = get_partitioned_dataloaders(image_dir= IMAGE_DIR,\n",
    "                                                               label_file= LABEL_FILE,\n",
    "                                                               partition_file= PARTITION_FILE,\n",
    "                                                               batch_size=BATCH_SIZE,\n",
    "                                                               img_size=224)"
   ]
  },
  {
   "cell_type": "code",
   "execution_count": null,
   "id": "9e7f475be81e0ecd",
   "metadata": {
    "ExecuteTime": {
     "end_time": "2025-05-25T13:14:36.654183Z",
     "start_time": "2025-05-25T13:14:35.846572Z"
    }
   },
   "outputs": [],
   "source": [
    "# Get one sample from the dataloader\n",
    "dataiter = iter(test_loader)\n",
    "img1, img2, label = next(dataiter)\n",
    "\n",
    "# If you want to visualize the images, you can use matplotlib\n",
    "import matplotlib.pyplot as plt\n",
    "\n",
    "# Create a figure with two subplots side by side\n",
    "fig, (ax1, ax2) = plt.subplots(1, 2, figsize=(10, 5))\n",
    "\n",
    "# For each image, we need to move the channels to the end and convert to numpy\n",
    "# Assuming the images are in format (batch_size, channels, height, width)\n",
    "img1_display = img1[0].permute(1, 2, 0).cpu().numpy()\n",
    "img2_display = img2[0].permute(1, 2, 0).cpu().numpy()\n",
    "print(\"\\nLabel:\", label[0])\n",
    "# Display images\n",
    "ax1.imshow(img1_display)\n",
    "ax1.set_title('Image 1')\n",
    "ax1.axis('off')\n",
    "\n",
    "ax2.imshow(img2_display)\n",
    "ax2.set_title('Image 2')\n",
    "ax2.axis('off')\n",
    "\n",
    "plt.show()"
   ]
  },
  {
   "cell_type": "markdown",
   "id": "edf17a00",
   "metadata": {},
   "source": [
    "# Create the model"
   ]
  },
  {
   "cell_type": "code",
   "execution_count": null,
   "id": "a5ce9a92a3b04d2d",
   "metadata": {
    "ExecuteTime": {
     "end_time": "2025-05-25T13:14:38.465535Z",
     "start_time": "2025-05-25T13:14:37.530028Z"
    }
   },
   "outputs": [],
   "source": [
    "model = SiameseResNet()"
   ]
  },
  {
   "cell_type": "markdown",
   "id": "a64873c2d6b338a",
   "metadata": {},
   "source": [
    "# Find best Hyperparameters"
   ]
  },
  {
   "cell_type": "code",
   "execution_count": null,
   "id": "ab64459c6127341f",
   "metadata": {
    "ExecuteTime": {
     "end_time": "2025-05-25T12:56:43.050638Z",
     "start_time": "2025-05-25T12:41:15.641079Z"
    }
   },
   "outputs": [],
   "source": [
    "train_loader_study = (create_subset_loader(train_loader,10000))\n",
    "val_loader_study = (create_subset_loader(train_loader,2000))\n",
    "run_optuna_study(train_loader_study, val_loader_study, n_trials=10, study_name=\"siamese_constrastive_HP_study\")"
   ]
  },
  {
   "cell_type": "markdown",
   "id": "95eff55d",
   "metadata": {},
   "source": [
    "# Train Model"
   ]
  },
  {
   "cell_type": "code",
   "execution_count": null,
   "id": "a0fe35a18ddf99ae",
   "metadata": {
    "ExecuteTime": {
     "end_time": "2025-05-25T13:03:24.665907Z",
     "start_time": "2025-05-25T13:03:24.650295Z"
    }
   },
   "outputs": [],
   "source": [
    "optimizer = torch.optim.Adam(model.parameters(),\n",
    "                                     lr=0.00001,\n",
    "                                     weight_decay=1e-5)"
   ]
  },
  {
   "cell_type": "code",
   "execution_count": 11,
   "id": "6be89047f017812",
   "metadata": {
    "ExecuteTime": {
     "end_time": "2025-05-25T13:09:44.545535Z",
     "start_time": "2025-05-25T13:04:50.627087Z"
    }
   },
   "outputs": [
    {
     "name": "stderr",
     "output_type": "stream",
     "text": [
      "Epoch 1/5:   0%|          | 5/5087 [01:27<24:43:38, 17.52s/it, loss=0.0222]\n"
     ]
    },
    {
     "ename": "KeyboardInterrupt",
     "evalue": "",
     "output_type": "error",
     "traceback": [
      "\u001b[31m---------------------------------------------------------------------------\u001b[39m",
      "\u001b[31mKeyboardInterrupt\u001b[39m                         Traceback (most recent call last)",
      "\u001b[36mCell\u001b[39m\u001b[36m \u001b[39m\u001b[32mIn[11]\u001b[39m\u001b[32m, line 1\u001b[39m\n\u001b[32m----> \u001b[39m\u001b[32m1\u001b[39m results = \u001b[43mmodel\u001b[49m\u001b[43m.\u001b[49m\u001b[43mtrain_model_constructive\u001b[49m\u001b[43m(\u001b[49m\n\u001b[32m      2\u001b[39m \u001b[43m        \u001b[49m\u001b[43mtrain_loader\u001b[49m\u001b[43m=\u001b[49m\u001b[43mtrain_loader\u001b[49m\u001b[43m,\u001b[49m\n\u001b[32m      3\u001b[39m \u001b[43m        \u001b[49m\u001b[43mval_loader\u001b[49m\u001b[43m=\u001b[49m\u001b[43mval_loader\u001b[49m\u001b[43m,\u001b[49m\n\u001b[32m      4\u001b[39m \u001b[43m        \u001b[49m\u001b[43mcriterion\u001b[49m\u001b[43m=\u001b[49m\u001b[43mContrastiveLoss\u001b[49m\u001b[43m(\u001b[49m\u001b[43mmargin\u001b[49m\u001b[43m=\u001b[49m\u001b[32;43m7.0\u001b[39;49m\u001b[43m)\u001b[49m\u001b[43m,\u001b[49m\n\u001b[32m      5\u001b[39m \u001b[43m        \u001b[49m\u001b[43moptimizer\u001b[49m\u001b[43m=\u001b[49m\u001b[43moptimizer\u001b[49m\u001b[43m,\u001b[49m\u001b[43m  \u001b[49m\u001b[38;5;66;43;03m# Pass the created optimizer\u001b[39;49;00m\n\u001b[32m      6\u001b[39m \u001b[43m        \u001b[49m\u001b[43mnum_epochs\u001b[49m\u001b[43m=\u001b[49m\u001b[32;43m5\u001b[39;49m\u001b[43m,\u001b[49m\n\u001b[32m      7\u001b[39m \u001b[43m        \u001b[49m\u001b[43mdevice\u001b[49m\u001b[43m=\u001b[49m\u001b[43mDEVICE\u001b[49m\u001b[43m,\u001b[49m\n\u001b[32m      8\u001b[39m \u001b[43m        \u001b[49m\u001b[43mpatience\u001b[49m\u001b[43m=\u001b[49m\u001b[32;43m5\u001b[39;49m\u001b[43m,\u001b[49m\n\u001b[32m      9\u001b[39m \u001b[43m        \u001b[49m\u001b[43mexperiment_name\u001b[49m\u001b[43m=\u001b[49m\u001b[33;43m'\u001b[39;49m\u001b[33;43mSiameseResNet\u001b[39;49m\u001b[33;43m'\u001b[39;49m\u001b[43m,\u001b[49m\n\u001b[32m     10\u001b[39m \u001b[43m        \u001b[49m\u001b[43mtuning_mode\u001b[49m\u001b[43m=\u001b[49m\u001b[38;5;28;43;01mTrue\u001b[39;49;00m\n\u001b[32m     11\u001b[39m \u001b[43m    \u001b[49m\u001b[43m)\u001b[49m\n",
      "\u001b[36mFile \u001b[39m\u001b[32m~/PycharmProjects/RAML1/src/ml/resNet50.py:206\u001b[39m, in \u001b[36mSiameseResNet.train_model_constructive\u001b[39m\u001b[34m(self, train_loader, val_loader, criterion, learning_rate, num_epochs, optimizer, device, experiment_name, tuning_mode, patience)\u001b[39m\n\u001b[32m    204\u001b[39m output1, output2 = \u001b[38;5;28mself\u001b[39m(img1, img2)\n\u001b[32m    205\u001b[39m loss = criterion(output1, output2, label)\n\u001b[32m--> \u001b[39m\u001b[32m206\u001b[39m \u001b[43mloss\u001b[49m\u001b[43m.\u001b[49m\u001b[43mbackward\u001b[49m\u001b[43m(\u001b[49m\u001b[43m)\u001b[49m\n\u001b[32m    207\u001b[39m optimizer.step()\n\u001b[32m    209\u001b[39m train_loss += loss.item()\n",
      "\u001b[36mFile \u001b[39m\u001b[32m~/.conda/envs/RAML/lib/python3.13/site-packages/torch/_tensor.py:648\u001b[39m, in \u001b[36mTensor.backward\u001b[39m\u001b[34m(self, gradient, retain_graph, create_graph, inputs)\u001b[39m\n\u001b[32m    638\u001b[39m \u001b[38;5;28;01mif\u001b[39;00m has_torch_function_unary(\u001b[38;5;28mself\u001b[39m):\n\u001b[32m    639\u001b[39m     \u001b[38;5;28;01mreturn\u001b[39;00m handle_torch_function(\n\u001b[32m    640\u001b[39m         Tensor.backward,\n\u001b[32m    641\u001b[39m         (\u001b[38;5;28mself\u001b[39m,),\n\u001b[32m   (...)\u001b[39m\u001b[32m    646\u001b[39m         inputs=inputs,\n\u001b[32m    647\u001b[39m     )\n\u001b[32m--> \u001b[39m\u001b[32m648\u001b[39m \u001b[43mtorch\u001b[49m\u001b[43m.\u001b[49m\u001b[43mautograd\u001b[49m\u001b[43m.\u001b[49m\u001b[43mbackward\u001b[49m\u001b[43m(\u001b[49m\n\u001b[32m    649\u001b[39m \u001b[43m    \u001b[49m\u001b[38;5;28;43mself\u001b[39;49m\u001b[43m,\u001b[49m\u001b[43m \u001b[49m\u001b[43mgradient\u001b[49m\u001b[43m,\u001b[49m\u001b[43m \u001b[49m\u001b[43mretain_graph\u001b[49m\u001b[43m,\u001b[49m\u001b[43m \u001b[49m\u001b[43mcreate_graph\u001b[49m\u001b[43m,\u001b[49m\u001b[43m \u001b[49m\u001b[43minputs\u001b[49m\u001b[43m=\u001b[49m\u001b[43minputs\u001b[49m\n\u001b[32m    650\u001b[39m \u001b[43m\u001b[49m\u001b[43m)\u001b[49m\n",
      "\u001b[36mFile \u001b[39m\u001b[32m~/.conda/envs/RAML/lib/python3.13/site-packages/torch/autograd/__init__.py:353\u001b[39m, in \u001b[36mbackward\u001b[39m\u001b[34m(tensors, grad_tensors, retain_graph, create_graph, grad_variables, inputs)\u001b[39m\n\u001b[32m    348\u001b[39m     retain_graph = create_graph\n\u001b[32m    350\u001b[39m \u001b[38;5;66;03m# The reason we repeat the same comment below is that\u001b[39;00m\n\u001b[32m    351\u001b[39m \u001b[38;5;66;03m# some Python versions print out the first line of a multi-line function\u001b[39;00m\n\u001b[32m    352\u001b[39m \u001b[38;5;66;03m# calls in the traceback and some print out the last line\u001b[39;00m\n\u001b[32m--> \u001b[39m\u001b[32m353\u001b[39m \u001b[43m_engine_run_backward\u001b[49m\u001b[43m(\u001b[49m\n\u001b[32m    354\u001b[39m \u001b[43m    \u001b[49m\u001b[43mtensors\u001b[49m\u001b[43m,\u001b[49m\n\u001b[32m    355\u001b[39m \u001b[43m    \u001b[49m\u001b[43mgrad_tensors_\u001b[49m\u001b[43m,\u001b[49m\n\u001b[32m    356\u001b[39m \u001b[43m    \u001b[49m\u001b[43mretain_graph\u001b[49m\u001b[43m,\u001b[49m\n\u001b[32m    357\u001b[39m \u001b[43m    \u001b[49m\u001b[43mcreate_graph\u001b[49m\u001b[43m,\u001b[49m\n\u001b[32m    358\u001b[39m \u001b[43m    \u001b[49m\u001b[43minputs\u001b[49m\u001b[43m,\u001b[49m\n\u001b[32m    359\u001b[39m \u001b[43m    \u001b[49m\u001b[43mallow_unreachable\u001b[49m\u001b[43m=\u001b[49m\u001b[38;5;28;43;01mTrue\u001b[39;49;00m\u001b[43m,\u001b[49m\n\u001b[32m    360\u001b[39m \u001b[43m    \u001b[49m\u001b[43maccumulate_grad\u001b[49m\u001b[43m=\u001b[49m\u001b[38;5;28;43;01mTrue\u001b[39;49;00m\u001b[43m,\u001b[49m\n\u001b[32m    361\u001b[39m \u001b[43m\u001b[49m\u001b[43m)\u001b[49m\n",
      "\u001b[36mFile \u001b[39m\u001b[32m~/.conda/envs/RAML/lib/python3.13/site-packages/torch/autograd/graph.py:824\u001b[39m, in \u001b[36m_engine_run_backward\u001b[39m\u001b[34m(t_outputs, *args, **kwargs)\u001b[39m\n\u001b[32m    822\u001b[39m     unregister_hooks = _register_logging_hooks_on_whole_graph(t_outputs)\n\u001b[32m    823\u001b[39m \u001b[38;5;28;01mtry\u001b[39;00m:\n\u001b[32m--> \u001b[39m\u001b[32m824\u001b[39m     \u001b[38;5;28;01mreturn\u001b[39;00m \u001b[43mVariable\u001b[49m\u001b[43m.\u001b[49m\u001b[43m_execution_engine\u001b[49m\u001b[43m.\u001b[49m\u001b[43mrun_backward\u001b[49m\u001b[43m(\u001b[49m\u001b[43m  \u001b[49m\u001b[38;5;66;43;03m# Calls into the C++ engine to run the backward pass\u001b[39;49;00m\n\u001b[32m    825\u001b[39m \u001b[43m        \u001b[49m\u001b[43mt_outputs\u001b[49m\u001b[43m,\u001b[49m\u001b[43m \u001b[49m\u001b[43m*\u001b[49m\u001b[43margs\u001b[49m\u001b[43m,\u001b[49m\u001b[43m \u001b[49m\u001b[43m*\u001b[49m\u001b[43m*\u001b[49m\u001b[43mkwargs\u001b[49m\n\u001b[32m    826\u001b[39m \u001b[43m    \u001b[49m\u001b[43m)\u001b[49m  \u001b[38;5;66;03m# Calls into the C++ engine to run the backward pass\u001b[39;00m\n\u001b[32m    827\u001b[39m \u001b[38;5;28;01mfinally\u001b[39;00m:\n\u001b[32m    828\u001b[39m     \u001b[38;5;28;01mif\u001b[39;00m attach_logging_hooks:\n",
      "\u001b[31mKeyboardInterrupt\u001b[39m: "
     ]
    }
   ],
   "source": [
    "results = model.train_model_constructive(\n",
    "        train_loader=train_loader,\n",
    "        val_loader=val_loader,\n",
    "        criterion=ContrastiveLoss(margin=7.0),\n",
    "        optimizer=optimizer,  # Pass the created optimizer\n",
    "        num_epochs=5,\n",
    "        device=DEVICE,\n",
    "        patience=5,\n",
    "        experiment_name='SiameseResNet',\n",
    "        tuning_mode=True\n",
    "    )"
   ]
  },
  {
   "cell_type": "markdown",
   "id": "485a8ba6",
   "metadata": {},
   "source": [
    "# Plot the results"
   ]
  },
  {
   "cell_type": "code",
   "execution_count": null,
   "id": "f02db44c",
   "metadata": {},
   "outputs": [],
   "source": [
    "! mlflow ui --port 5000"
   ]
  }
 ],
 "metadata": {
  "kernelspec": {
   "display_name": "Python 3",
   "language": "python",
   "name": "python3"
  },
  "language_info": {
   "codemirror_mode": {
    "name": "ipython",
    "version": 3
   },
   "file_extension": ".py",
   "mimetype": "text/x-python",
   "name": "python",
   "nbconvert_exporter": "python",
   "pygments_lexer": "ipython3",
   "version": "3.13.2"
  }
 },
 "nbformat": 4,
 "nbformat_minor": 5
}
