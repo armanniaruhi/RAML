{
 "cells": [
  {
   "cell_type": "markdown",
   "id": "79996820810450ee",
   "metadata": {},
   "source": [
    "# Import libraries"
   ]
  },
  {
   "cell_type": "code",
   "execution_count": 15,
   "id": "f0d2de51",
   "metadata": {
    "ExecuteTime": {
     "end_time": "2025-05-28T22:19:15.744861Z",
     "start_time": "2025-05-28T22:19:11.059573Z"
    }
   },
   "outputs": [],
   "source": [
    "from src.preprocessing.dataLoader_CelebA import get_partitioned_dataloaders, create_subset_loader\n",
    "from src.preprocessing.dataLoader_vi import SiameseNetworkDataset\n",
    "from src.ml.resNet18 import SiameseNetwork\n",
    "from src.ml.loss_utils import ContrastiveLoss, ArcFaceLoss, MultiSimilarityLoss\n",
    "%matplotlib inline\n",
    "import matplotlib.pyplot as plt\n",
    "import numpy as np\n",
    "import torchvision.datasets as datasets\n",
    "import torchvision.transforms as transforms\n",
    "from torch.utils.data import DataLoader, Dataset\n",
    "import torch"
   ]
  },
  {
   "cell_type": "markdown",
   "id": "bd34605c",
   "metadata": {},
   "source": [
    "# 1. Load the data"
   ]
  },
  {
   "cell_type": "code",
   "execution_count": null,
   "id": "b95e4ac4",
   "metadata": {
    "ExecuteTime": {
     "end_time": "2025-05-28T22:19:15.962118Z",
     "start_time": "2025-05-28T22:19:15.959348Z"
    }
   },
   "outputs": [],
   "source": [
    "import yaml\n",
    "\n",
    "# Load config from YAML\n",
    "with open(\"config/config.yml\", \"r\") as f:\n",
    "    config = yaml.safe_load(f)\n",
    "\n",
    "# Extract sections\n",
    "PRE = config[\"PREPROCESSING\"]\n",
    "TRAIN = config[\"TRAINING\"]\n",
    "\n",
    "# Set constants from preprocessing config\n",
    "IMAGE_DIR = PRE[\"image_dir\"]\n",
    "LABEL_FILE = PRE[\"label_file\"]\n",
    "PARTITION_FILE = PRE[\"partition_file\"]\n",
    "BATCH_SIZE = PRE[\"batch_size\"]\n",
    "M_PER_SAMPLE = PRE[\"m_per_sample\"]\n",
    "DEVICE = torch.device(\"cuda\" if torch.cuda.is_available() else \"cpu\")\n",
    "\n",
    "# Set constants from training config\n",
    "LR = TRAIN[\"lr\"]\n",
    "SCHEDULING = TRAIN[\"scheduling\"]\n",
    "WEIGHT_DECAY = TRAIN[\"weight_decay\"]\n",
    "NUM_EPOCHS = TRAIN[\"num_epochs\"]\n",
    "PATIENCE = TRAIN[\"patience\"]\n",
    "LOSS_TYPE = TRAIN[\"loss_type\"]\n",
    "DATASET_NAME = \"celebA\"# \"celebA\" # ATT"
   ]
  },
  {
   "cell_type": "code",
   "execution_count": 17,
   "id": "bcb06cdd",
   "metadata": {},
   "outputs": [],
   "source": [
    "if DATASET_NAME == \"celebA\":\n",
    "    # Load datasets\n",
    "    train_loader, val_loader, test_loader = get_partitioned_dataloaders(\n",
    "        image_dir=IMAGE_DIR,\n",
    "        label_file=LABEL_FILE,\n",
    "        m_per_sample=M_PER_SAMPLE,\n",
    "        partition_file=PARTITION_FILE,\n",
    "        batch_size=BATCH_SIZE,\n",
    "        output_format = \"others\"\n",
    "    )\n",
    "\n",
    "    train_loader = create_subset_loader(train_loader, 5000)\n",
    "    test_dataloader= create_subset_loader(train_loader, 1000)\n",
    "else:\n",
    "    # Load the training dataset\n",
    "    folder_dataset = datasets.ImageFolder(root=\"data/v2/data/faces/training/\")\n",
    "\n",
    "    # Resize the images and transform to tensors\n",
    "    transformation = transforms.Compose([transforms.Resize((100,100)),\n",
    "                                        transforms.ToTensor()\n",
    "                                        ])\n",
    "\n",
    "    # Initialize the network\n",
    "    siamese_dataset = SiameseNetworkDataset(imageFolderDataset=folder_dataset,\n",
    "                                            transform=transformation)\n",
    "    train_loader = DataLoader(siamese_dataset, shuffle=True, num_workers=8, batch_size=64)\n",
    "\n",
    "    # Locate the test dataset and load it into the SiameseNetworkDataset\n",
    "    folder_dataset_test = datasets.ImageFolder(root=\"data/v2/data/faces/testing/\")\n",
    "    siamese_dataset = SiameseNetworkDataset(imageFolderDataset=folder_dataset_test,\n",
    "                                            transform=transformation)\n",
    "    test_dataloader = DataLoader(siamese_dataset, num_workers=2, batch_size=1, shuffle=True)"
   ]
  },
  {
   "cell_type": "markdown",
   "id": "edf17a00",
   "metadata": {},
   "source": [
    "# Create the model"
   ]
  },
  {
   "cell_type": "code",
   "execution_count": 18,
   "id": "a5ce9a92a3b04d2d",
   "metadata": {
    "ExecuteTime": {
     "end_time": "2025-05-28T22:19:17.455809Z",
     "start_time": "2025-05-28T22:19:17.134385Z"
    }
   },
   "outputs": [],
   "source": [
    "model = SiameseNetwork()"
   ]
  },
  {
   "cell_type": "markdown",
   "id": "95eff55d",
   "metadata": {},
   "source": [
    "# Train Model"
   ]
  },
  {
   "cell_type": "code",
   "execution_count": 19,
   "id": "e986cef3a8d96a76",
   "metadata": {
    "ExecuteTime": {
     "end_time": "2025-05-28T21:16:46.415054Z",
     "start_time": "2025-05-28T21:16:46.411053Z"
    }
   },
   "outputs": [],
   "source": [
    "DEVICE = torch.device(\"cuda\" if torch.cuda.is_available() else \"cpu\")\n",
    "net = SiameseNetwork().to(DEVICE)\n",
    "loss_type = LOSS_TYPE\n",
    "\n",
    "if loss_type == \"contrastive\":\n",
    "    criterion = ContrastiveLoss(margin=20)\n",
    "elif loss_type == \"arcface\":\n",
    "    criterion = ArcFaceLoss(num_classes=20000, embedding_size=256)\n",
    "elif loss_type == \"multisimilarity\":\n",
    "    import pytorch_metric_learning.losses as losses\n",
    "    criterion = losses.MultiSimilarityLoss(alpha=2, beta=50, base=0.5)\n",
    "optimizer = torch.optim.AdamW(net.parameters(), lr=0.0005)\n"
   ]
  },
  {
   "cell_type": "code",
   "execution_count": 20,
   "id": "69def1fb",
   "metadata": {},
   "outputs": [],
   "source": [
    "# Showing images\n",
    "def imshow(img, text=None):\n",
    "    npimg = img.numpy()\n",
    "    plt.axis(\"off\")\n",
    "    if text:\n",
    "        plt.text(75, 8, text, style='italic',fontweight='bold',\n",
    "            bbox={'facecolor':'white', 'alpha':0.8, 'pad':10})\n",
    "        \n",
    "    plt.imshow(np.transpose(npimg, (1, 2, 0)))\n",
    "    plt.show()    \n",
    "\n",
    "# Plotting data\n",
    "def show_plot(iteration,loss):\n",
    "    plt.plot(iteration,loss)\n",
    "    plt.show()"
   ]
  },
  {
   "cell_type": "code",
   "execution_count": 22,
   "id": "dbb3faca84ebca6b",
   "metadata": {
    "ExecuteTime": {
     "end_time": "2025-05-28T21:17:25.376709Z",
     "start_time": "2025-05-28T21:16:46.938715Z"
    }
   },
   "outputs": [
    {
     "name": "stdout",
     "output_type": "stream",
     "text": [
      "\n",
      "Epoch 1/10\n"
     ]
    },
    {
     "name": "stderr",
     "output_type": "stream",
     "text": [
      "Training Epoch 1:   2%|▏         | 5/313 [00:31<32:07,  6.26s/it, Avg Loss=187]\n"
     ]
    },
    {
     "ename": "KeyboardInterrupt",
     "evalue": "",
     "output_type": "error",
     "traceback": [
      "\u001b[31m---------------------------------------------------------------------------\u001b[39m",
      "\u001b[31mKeyboardInterrupt\u001b[39m                         Traceback (most recent call last)",
      "\u001b[36mCell\u001b[39m\u001b[36m \u001b[39m\u001b[32mIn[22]\u001b[39m\u001b[32m, line 32\u001b[39m\n\u001b[32m     29\u001b[39m \u001b[38;5;28;01melif\u001b[39;00m loss_type == \u001b[33m\"\u001b[39m\u001b[33marcface\u001b[39m\u001b[33m\"\u001b[39m:\n\u001b[32m     30\u001b[39m     loss = criterion(output1, output2, label0, label1)\n\u001b[32m---> \u001b[39m\u001b[32m32\u001b[39m \u001b[43mloss\u001b[49m\u001b[43m.\u001b[49m\u001b[43mbackward\u001b[49m\u001b[43m(\u001b[49m\u001b[43m)\u001b[49m\n\u001b[32m     33\u001b[39m optimizer.step()\n\u001b[32m     35\u001b[39m cum_loss += loss.item()\n",
      "\u001b[36mFile \u001b[39m\u001b[32m~/.conda/envs/RAML/lib/python3.13/site-packages/torch/_tensor.py:648\u001b[39m, in \u001b[36mTensor.backward\u001b[39m\u001b[34m(self, gradient, retain_graph, create_graph, inputs)\u001b[39m\n\u001b[32m    638\u001b[39m \u001b[38;5;28;01mif\u001b[39;00m has_torch_function_unary(\u001b[38;5;28mself\u001b[39m):\n\u001b[32m    639\u001b[39m     \u001b[38;5;28;01mreturn\u001b[39;00m handle_torch_function(\n\u001b[32m    640\u001b[39m         Tensor.backward,\n\u001b[32m    641\u001b[39m         (\u001b[38;5;28mself\u001b[39m,),\n\u001b[32m   (...)\u001b[39m\u001b[32m    646\u001b[39m         inputs=inputs,\n\u001b[32m    647\u001b[39m     )\n\u001b[32m--> \u001b[39m\u001b[32m648\u001b[39m \u001b[43mtorch\u001b[49m\u001b[43m.\u001b[49m\u001b[43mautograd\u001b[49m\u001b[43m.\u001b[49m\u001b[43mbackward\u001b[49m\u001b[43m(\u001b[49m\n\u001b[32m    649\u001b[39m \u001b[43m    \u001b[49m\u001b[38;5;28;43mself\u001b[39;49m\u001b[43m,\u001b[49m\u001b[43m \u001b[49m\u001b[43mgradient\u001b[49m\u001b[43m,\u001b[49m\u001b[43m \u001b[49m\u001b[43mretain_graph\u001b[49m\u001b[43m,\u001b[49m\u001b[43m \u001b[49m\u001b[43mcreate_graph\u001b[49m\u001b[43m,\u001b[49m\u001b[43m \u001b[49m\u001b[43minputs\u001b[49m\u001b[43m=\u001b[49m\u001b[43minputs\u001b[49m\n\u001b[32m    650\u001b[39m \u001b[43m\u001b[49m\u001b[43m)\u001b[49m\n",
      "\u001b[36mFile \u001b[39m\u001b[32m~/.conda/envs/RAML/lib/python3.13/site-packages/torch/autograd/__init__.py:353\u001b[39m, in \u001b[36mbackward\u001b[39m\u001b[34m(tensors, grad_tensors, retain_graph, create_graph, grad_variables, inputs)\u001b[39m\n\u001b[32m    348\u001b[39m     retain_graph = create_graph\n\u001b[32m    350\u001b[39m \u001b[38;5;66;03m# The reason we repeat the same comment below is that\u001b[39;00m\n\u001b[32m    351\u001b[39m \u001b[38;5;66;03m# some Python versions print out the first line of a multi-line function\u001b[39;00m\n\u001b[32m    352\u001b[39m \u001b[38;5;66;03m# calls in the traceback and some print out the last line\u001b[39;00m\n\u001b[32m--> \u001b[39m\u001b[32m353\u001b[39m \u001b[43m_engine_run_backward\u001b[49m\u001b[43m(\u001b[49m\n\u001b[32m    354\u001b[39m \u001b[43m    \u001b[49m\u001b[43mtensors\u001b[49m\u001b[43m,\u001b[49m\n\u001b[32m    355\u001b[39m \u001b[43m    \u001b[49m\u001b[43mgrad_tensors_\u001b[49m\u001b[43m,\u001b[49m\n\u001b[32m    356\u001b[39m \u001b[43m    \u001b[49m\u001b[43mretain_graph\u001b[49m\u001b[43m,\u001b[49m\n\u001b[32m    357\u001b[39m \u001b[43m    \u001b[49m\u001b[43mcreate_graph\u001b[49m\u001b[43m,\u001b[49m\n\u001b[32m    358\u001b[39m \u001b[43m    \u001b[49m\u001b[43minputs\u001b[49m\u001b[43m,\u001b[49m\n\u001b[32m    359\u001b[39m \u001b[43m    \u001b[49m\u001b[43mallow_unreachable\u001b[49m\u001b[43m=\u001b[49m\u001b[38;5;28;43;01mTrue\u001b[39;49;00m\u001b[43m,\u001b[49m\n\u001b[32m    360\u001b[39m \u001b[43m    \u001b[49m\u001b[43maccumulate_grad\u001b[49m\u001b[43m=\u001b[49m\u001b[38;5;28;43;01mTrue\u001b[39;49;00m\u001b[43m,\u001b[49m\n\u001b[32m    361\u001b[39m \u001b[43m\u001b[49m\u001b[43m)\u001b[49m\n",
      "\u001b[36mFile \u001b[39m\u001b[32m~/.conda/envs/RAML/lib/python3.13/site-packages/torch/autograd/graph.py:824\u001b[39m, in \u001b[36m_engine_run_backward\u001b[39m\u001b[34m(t_outputs, *args, **kwargs)\u001b[39m\n\u001b[32m    822\u001b[39m     unregister_hooks = _register_logging_hooks_on_whole_graph(t_outputs)\n\u001b[32m    823\u001b[39m \u001b[38;5;28;01mtry\u001b[39;00m:\n\u001b[32m--> \u001b[39m\u001b[32m824\u001b[39m     \u001b[38;5;28;01mreturn\u001b[39;00m \u001b[43mVariable\u001b[49m\u001b[43m.\u001b[49m\u001b[43m_execution_engine\u001b[49m\u001b[43m.\u001b[49m\u001b[43mrun_backward\u001b[49m\u001b[43m(\u001b[49m\u001b[43m  \u001b[49m\u001b[38;5;66;43;03m# Calls into the C++ engine to run the backward pass\u001b[39;49;00m\n\u001b[32m    825\u001b[39m \u001b[43m        \u001b[49m\u001b[43mt_outputs\u001b[49m\u001b[43m,\u001b[49m\u001b[43m \u001b[49m\u001b[43m*\u001b[49m\u001b[43margs\u001b[49m\u001b[43m,\u001b[49m\u001b[43m \u001b[49m\u001b[43m*\u001b[49m\u001b[43m*\u001b[49m\u001b[43mkwargs\u001b[49m\n\u001b[32m    826\u001b[39m \u001b[43m    \u001b[49m\u001b[43m)\u001b[49m  \u001b[38;5;66;03m# Calls into the C++ engine to run the backward pass\u001b[39;00m\n\u001b[32m    827\u001b[39m \u001b[38;5;28;01mfinally\u001b[39;00m:\n\u001b[32m    828\u001b[39m     \u001b[38;5;28;01mif\u001b[39;00m attach_logging_hooks:\n",
      "\u001b[31mKeyboardInterrupt\u001b[39m: "
     ]
    }
   ],
   "source": [
    "from tqdm import tqdm\n",
    "\n",
    "counter = []\n",
    "loss_history = [] \n",
    "iteration_number = 0\n",
    "cum_loss = 0\n",
    "\n",
    "# Iterate through the epochs\n",
    "for epoch in range(NUM_EPOCHS):\n",
    "    print(f\"\\nEpoch {epoch + 1}/{NUM_EPOCHS}\")\n",
    "    \n",
    "    # tqdm progress bar for batches\n",
    "    pbar = tqdm(enumerate(train_loader, 0), total=len(train_loader), desc=f\"Training Epoch {epoch+1}\")\n",
    "    \n",
    "    for i, (img0, img1, label, label0, label1) in pbar:\n",
    "        # Send the images and labels to DEVICE\n",
    "        img0, img1, label, label0, label1 = img0.to(DEVICE), img1.to(DEVICE), label.to(DEVICE), label0.to(DEVICE), label1.to(DEVICE)\n",
    "        \n",
    "        optimizer.zero_grad()\n",
    "        output1, output2 = net(img0, img1)\n",
    "\n",
    "        # Compute loss\n",
    "        if loss_type == \"contrastive\":\n",
    "            loss = criterion(output1, output2, label)\n",
    "        elif loss_type == \"multisimilarity\":\n",
    "            embeddings = torch.cat([output1, output2])\n",
    "            labels = torch.cat([label0, label1])\n",
    "            loss = criterion(embeddings, labels)\n",
    "        elif loss_type == \"arcface\":\n",
    "            loss = criterion(output1, output2, label0, label1)\n",
    "\n",
    "        loss.backward()\n",
    "        optimizer.step()\n",
    "        \n",
    "        cum_loss += loss.item()\n",
    "\n",
    "        # Logging every 10 batches\n",
    "        if i % 10 == 0:\n",
    "            iteration_number += 10\n",
    "            counter.append(iteration_number)\n",
    "            loss_history.append(loss.item())\n",
    "        \n",
    "        # Update tqdm description\n",
    "        pbar.set_postfix({'Avg Loss': cum_loss / (i + 1)})\n",
    "\n",
    "show_plot(counter, loss_history)\n"
   ]
  },
  {
   "cell_type": "markdown",
   "id": "e02992fe",
   "metadata": {},
   "source": [
    "# TEST"
   ]
  },
  {
   "cell_type": "code",
   "execution_count": 23,
   "id": "1222fa4ca3cc18",
   "metadata": {},
   "outputs": [
    {
     "ename": "RuntimeError",
     "evalue": "a Tensor with 16 elements cannot be converted to Scalar",
     "output_type": "error",
     "traceback": [
      "\u001b[31m---------------------------------------------------------------------------\u001b[39m",
      "\u001b[31mRuntimeError\u001b[39m                              Traceback (most recent call last)",
      "\u001b[36mCell\u001b[39m\u001b[36m \u001b[39m\u001b[32mIn[23]\u001b[39m\u001b[32m, line 31\u001b[39m\n\u001b[32m     29\u001b[39m \u001b[38;5;66;03m# Concatenate images for display\u001b[39;00m\n\u001b[32m     30\u001b[39m concatenated = torch.cat((img1[\u001b[32m0\u001b[39m], img2[\u001b[32m0\u001b[39m]), \u001b[32m2\u001b[39m)  \u001b[38;5;66;03m# side by side: concat on width (dim=2)\u001b[39;00m\n\u001b[32m---> \u001b[39m\u001b[32m31\u001b[39m imshow(torchvision.utils.make_grid(concatenated), \u001b[33mf\u001b[39m\u001b[33m'\u001b[39m\u001b[33mDissimilarity: \u001b[39m\u001b[38;5;132;01m{\u001b[39;00m\u001b[43meuclidean_distance\u001b[49m\u001b[43m.\u001b[49m\u001b[43mitem\u001b[49m\u001b[43m(\u001b[49m\u001b[43m)\u001b[49m\u001b[38;5;132;01m:\u001b[39;00m\u001b[33m.2f\u001b[39m\u001b[38;5;132;01m}\u001b[39;00m\u001b[33m'\u001b[39m)\n",
      "\u001b[31mRuntimeError\u001b[39m: a Tensor with 16 elements cannot be converted to Scalar"
     ]
    }
   ],
   "source": [
    "import matplotlib.pyplot as plt\n",
    "import torchvision\n",
    "import torch.nn.functional as F\n",
    "\n",
    "def imshow(img, title=None):\n",
    "    npimg = img.numpy()\n",
    "    plt.figure(figsize=(4, 2))\n",
    "    plt.axis(\"off\")\n",
    "    if title:\n",
    "        plt.title(title)\n",
    "    plt.imshow(np.transpose(npimg, (1, 2, 0)))\n",
    "    plt.show()\n",
    "\n",
    "# Set your model to eval mode\n",
    "net.eval()\n",
    "\n",
    "for i in range(3):\n",
    "    # Get one sample (batch of 1)\n",
    "    img1, _, _, label1, _ = next(iter(test_dataloader))\n",
    "    img2, _, _, label2, _ = next(iter(test_dataloader))\n",
    "\n",
    "    # Optional: move to GPU if needed\n",
    "\n",
    "    # Get embeddings\n",
    "    with torch.no_grad():\n",
    "        emb1, emb2 = net(img1.to(DEVICE), img2.to(DEVICE))\n",
    "        euclidean_distance = F.pairwise_distance(emb1, emb2)\n",
    "\n",
    "    # Concatenate images for display\n",
    "    concatenated = torch.cat((img1[0], img2[0]), 2)  # side by side: concat on width (dim=2)\n",
    "    imshow(torchvision.utils.make_grid(concatenated), f'Dissimilarity: {euclidean_distance.item():.2f}')\n"
   ]
  },
  {
   "cell_type": "code",
   "execution_count": null,
   "id": "92f38343",
   "metadata": {},
   "outputs": [
    {
     "data": {
      "image/png": "[encoded data removed]",
      "text/plain": [
       "<Figure size 1000x800 with 2 Axes>"
      ]
     },
     "metadata": {},
     "output_type": "display_data"
    }
   ],
   "source": [
    "import matplotlib.pyplot as plt\n",
    "import torchvision\n",
    "import torch\n",
    "import torch.nn.functional as F\n",
    "from sklearn.manifold import TSNE\n",
    "import numpy as np\n",
    "\n",
    "embeddings = []\n",
    "labels = []\n",
    "\n",
    "# Collect N samples\n",
    "N = 200  # or more for better visualization\n",
    "iterator1 = iter(test_dataloader)\n",
    "iterator2 = iter(test_dataloader)\n",
    "\n",
    "for _ in range(N):\n",
    "    try:\n",
    "        img1, _, _, label1, _ = next(iterator1)\n",
    "        img2, _, _, label2, _ = next(iterator2)\n",
    "    except StopIteration:\n",
    "        break\n",
    "\n",
    "    with torch.no_grad():\n",
    "        emb1, emb2 = net(img1.to(DEVICE), img2.to(DEVICE))\n",
    "\n",
    "    # Collect embeddings and labels\n",
    "    embeddings.append(emb1.squeeze(0).cpu().numpy())\n",
    "    labels.append(label1.item())\n",
    "\n",
    "    embeddings.append(emb2.squeeze(0).cpu().numpy())\n",
    "    labels.append(label2.item())\n",
    "\n",
    "# Convert to numpy arrays\n",
    "embeddings = np.array(embeddings)\n",
    "labels = np.array(labels)\n",
    "\n",
    "# Apply t-SNE\n",
    "tsne = TSNE(n_components=2, random_state=42)\n",
    "embeddings_2d = tsne.fit_transform(embeddings)\n",
    "\n",
    "# Plot t-SNE\n",
    "plt.figure(figsize=(10, 8))\n",
    "scatter = plt.scatter(embeddings_2d[:, 0], embeddings_2d[:, 1], c=labels, cmap='tab10', alpha=0.7)\n",
    "plt.colorbar(scatter, label='Class Label')\n",
    "plt.title('t-SNE of Embeddings')\n",
    "plt.xlabel('Component 1')\n",
    "plt.ylabel('Component 2')\n",
    "plt.grid(True)\n",
    "plt.show()\n"
   ]
  },
  {
   "cell_type": "markdown",
   "id": "6c88db09120a25bf",
   "metadata": {},
   "source": [
    "# Plot the results"
   ]
  },
  {
   "cell_type": "code",
   "execution_count": null,
   "id": "35184fd98283adb4",
   "metadata": {},
   "outputs": [],
   "source": [
    "! mlflow ui --port 5000"
   ]
  }
 ],
 "metadata": {
  "kernelspec": {
   "display_name": "Python 3",
   "language": "python",
   "name": "python3"
  },
  "language_info": {
   "codemirror_mode": {
    "name": "ipython",
    "version": 3
   },
   "file_extension": ".py",
   "mimetype": "text/x-python",
   "name": "python",
   "nbconvert_exporter": "python",
   "pygments_lexer": "ipython3",
   "version": "3.13.2"
  }
 },
 "nbformat": 4,
 "nbformat_minor": 5
}
