{
 "cells": [
  {
   "metadata": {},
   "cell_type": "markdown",
   "source": "# Import libraries",
   "id": "79996820810450ee"
  },
  {
   "cell_type": "code",
   "id": "f0d2de51",
   "metadata": {
    "ExecuteTime": {
     "end_time": "2025-05-28T19:32:54.147559Z",
     "start_time": "2025-05-28T19:32:50.238283Z"
    }
   },
   "source": [
    "from src.preprocessing.dataLoader_CelebA import get_partitioned_dataloaders, create_subset_loader\n",
    "from src.ml.resNet50 import SiameseResNet\n",
    "import torch\n",
    "from src.ml.hyperparam_study import run_optuna_study"
   ],
   "outputs": [],
   "execution_count": 1
  },
  {
   "metadata": {},
   "cell_type": "markdown",
   "source": "# Import losses",
   "id": "de5d4a137ee7011e"
  },
  {
   "metadata": {
    "ExecuteTime": {
     "end_time": "2025-05-28T19:32:54.300665Z",
     "start_time": "2025-05-28T19:32:54.279213Z"
    }
   },
   "cell_type": "code",
   "source": [
    "from pytorch_metric_learning.losses import ContrastiveLoss\n",
    "from pytorch_metric_learning.losses import MarginLoss\n",
    "from pytorch_metric_learning.losses import MultiSimilarityLoss\n",
    "from pytorch_metric_learning.losses import HistogramLoss"
   ],
   "id": "ac91d47fd7b66b6b",
   "outputs": [],
   "execution_count": 2
  },
  {
   "cell_type": "markdown",
   "id": "bd34605c",
   "metadata": {},
   "source": [
    "# 1. Load the data"
   ]
  },
  {
   "cell_type": "code",
   "id": "b95e4ac4",
   "metadata": {
    "ExecuteTime": {
     "end_time": "2025-05-28T19:32:54.322205Z",
     "start_time": "2025-05-28T19:32:54.317639Z"
    }
   },
   "source": [
    "IMAGE_DIR = \"data/celeba/img_align_celeba\"\n",
    "LABEL_FILE = \"data/celeba/identity_CelebA.txt\"\n",
    "PARTITION_FILE = \"data/celeba/list_eval_partition.csv\"\n",
    "IMG_SIZE = 224\n",
    "BATCH_SIZE = 32\n",
    "M_PER_SAMPLE = 2\n",
    "DEVICE = torch.device('cuda' if torch.cuda.is_available() else 'cpu')"
   ],
   "outputs": [],
   "execution_count": 3
  },
  {
   "cell_type": "code",
   "id": "2a41272680289e27",
   "metadata": {
    "ExecuteTime": {
     "end_time": "2025-05-28T19:32:56.272143Z",
     "start_time": "2025-05-28T19:32:54.390350Z"
    }
   },
   "source": [
    "train_loader, val_loader, test_loader = get_partitioned_dataloaders(image_dir= IMAGE_DIR,\n",
    "                                                               label_file= LABEL_FILE,\n",
    "                                                                m_per_sample = M_PER_SAMPLE,\n",
    "                                                               partition_file= PARTITION_FILE,\n",
    "                                                               batch_size=BATCH_SIZE)"
   ],
   "outputs": [],
   "execution_count": 4
  },
  {
   "cell_type": "markdown",
   "id": "edf17a00",
   "metadata": {},
   "source": [
    "# Create the model"
   ]
  },
  {
   "cell_type": "code",
   "id": "a5ce9a92a3b04d2d",
   "metadata": {
    "ExecuteTime": {
     "end_time": "2025-05-28T19:32:59.229009Z",
     "start_time": "2025-05-28T19:32:58.663642Z"
    }
   },
   "source": [
    "model = SiameseResNet()"
   ],
   "outputs": [],
   "execution_count": 5
  },
  {
   "cell_type": "markdown",
   "id": "a64873c2d6b338a",
   "metadata": {},
   "source": [
    "# Find best Hyperparameters"
   ]
  },
  {
   "cell_type": "markdown",
   "id": "95eff55d",
   "metadata": {},
   "source": [
    "# Train Model"
   ]
  },
  {
   "metadata": {
    "ExecuteTime": {
     "end_time": "2025-05-27T21:37:07.672059Z",
     "start_time": "2025-05-27T21:37:07.666961Z"
    }
   },
   "cell_type": "code",
   "source": "optimizer = torch.optim.AdamW(model.parameters(), lr = 1e-5, weight_decay=1e-4)",
   "id": "f73a3707486bef90",
   "outputs": [],
   "execution_count": 6
  },
  {
   "metadata": {
    "ExecuteTime": {
     "end_time": "2025-05-27T21:37:07.741533Z",
     "start_time": "2025-05-27T21:37:07.732087Z"
    }
   },
   "cell_type": "code",
   "source": [
    "contrastive_loss = ContrastiveLoss(neg_margin=1.0, pos_margin=0)\n",
    "histogram_loss = HistogramLoss(n_bins=1000)\n",
    "multi_similarity_loss = MultiSimilarityLoss()\n",
    "margin_loss = MarginLoss(margin=0.5)"
   ],
   "id": "e986cef3a8d96a76",
   "outputs": [],
   "execution_count": 7
  },
  {
   "metadata": {
    "ExecuteTime": {
     "end_time": "2025-05-28T19:22:03.643611Z",
     "start_time": "2025-05-28T19:22:03.415461Z"
    }
   },
   "cell_type": "code",
   "source": [
    "results = model.train_model(\n",
    "        train_loader=train_loader,\n",
    "        val_loader=val_loader,\n",
    "        criterion=histogram_loss,\n",
    "        optimizer=optimizer,\n",
    "        num_epochs=10,\n",
    "        device=DEVICE,\n",
    "        patience=5,\n",
    "        experiment_name='SiameseResNet',\n",
    "        tuning_mode=False\n",
    "    )"
   ],
   "id": "dbb3faca84ebca6b",
   "outputs": [
    {
     "ename": "NameError",
     "evalue": "name 'model' is not defined",
     "output_type": "error",
     "traceback": [
      "\u001B[31m---------------------------------------------------------------------------\u001B[39m",
      "\u001B[31mNameError\u001B[39m                                 Traceback (most recent call last)",
      "\u001B[36mCell\u001B[39m\u001B[36m \u001B[39m\u001B[32mIn[1]\u001B[39m\u001B[32m, line 1\u001B[39m\n\u001B[32m----> \u001B[39m\u001B[32m1\u001B[39m results = \u001B[43mmodel\u001B[49m.train_model(\n\u001B[32m      2\u001B[39m         train_loader=train_loader,\n\u001B[32m      3\u001B[39m         val_loader=val_loader,\n\u001B[32m      4\u001B[39m         criterion=histogram_loss,\n\u001B[32m      5\u001B[39m         optimizer=optimizer,\n\u001B[32m      6\u001B[39m         num_epochs=\u001B[32m10\u001B[39m,\n\u001B[32m      7\u001B[39m         device=DEVICE,\n\u001B[32m      8\u001B[39m         patience=\u001B[32m5\u001B[39m,\n\u001B[32m      9\u001B[39m         experiment_name=\u001B[33m'\u001B[39m\u001B[33mSiameseResNet\u001B[39m\u001B[33m'\u001B[39m,\n\u001B[32m     10\u001B[39m         tuning_mode=\u001B[38;5;28;01mFalse\u001B[39;00m\n\u001B[32m     11\u001B[39m     )\n",
      "\u001B[31mNameError\u001B[39m: name 'model' is not defined"
     ]
    }
   ],
   "execution_count": 1
  },
  {
   "metadata": {},
   "cell_type": "code",
   "outputs": [],
   "execution_count": null,
   "source": [
    "train_loader_study = (create_subset_loader(train_loader,10000))\n",
    "val_loader_study = (create_subset_loader(train_loader,2000))\n",
    "study = run_optuna_study(train_loader_study, val_loader_study, n_trials=10, study_name=\"siamese_constrastive_HP_study\")\n",
    "best_params = study.best_params"
   ],
   "id": "1222fa4ca3cc18"
  },
  {
   "metadata": {},
   "cell_type": "markdown",
   "source": "# Plot the results",
   "id": "6c88db09120a25bf"
  },
  {
   "metadata": {},
   "cell_type": "code",
   "source": "! mlflow ui --port 5000",
   "id": "35184fd98283adb4",
   "outputs": [],
   "execution_count": null
  }
 ],
 "metadata": {
  "kernelspec": {
   "display_name": "Python 3",
   "language": "python",
   "name": "python3"
  },
  "language_info": {
   "codemirror_mode": {
    "name": "ipython",
    "version": 3
   },
   "file_extension": ".py",
   "mimetype": "text/x-python",
   "name": "python",
   "nbconvert_exporter": "python",
   "pygments_lexer": "ipython3",
   "version": "3.13.2"
  }
 },
 "nbformat": 4,
 "nbformat_minor": 5
}
